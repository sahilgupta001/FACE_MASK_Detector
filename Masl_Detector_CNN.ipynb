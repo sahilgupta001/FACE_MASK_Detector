{
  "nbformat": 4,
  "nbformat_minor": 0,
  "metadata": {
    "colab": {
      "name": "Masl_Detector_CNN",
      "provenance": [],
      "collapsed_sections": []
    },
    "kernelspec": {
      "name": "python3",
      "display_name": "Python 3"
    },
    "accelerator": "GPU"
  },
  "cells": [
    {
      "cell_type": "markdown",
      "metadata": {
        "id": "T8IDxz6kZCwa",
        "colab_type": "text"
      },
      "source": [
        "**Importing all the required libraries**"
      ]
    },
    {
      "cell_type": "code",
      "metadata": {
        "id": "2-jFxiT-ZDgz",
        "colab_type": "code",
        "colab": {}
      },
      "source": [
        "import csv\n",
        "import os\n",
        "from random import seed\n",
        "from random import random\n",
        "from tensorflow.keras.preprocessing.image import ImageDataGenerator\n",
        "from matplotlib import pyplot\n",
        "from PIL import Image\n",
        "from tensorflow.keras.models import Sequential\n",
        "from tensorflow.keras.layers import Dense, Dropout, MaxPooling2D, Flatten, Conv2D\n",
        "from tensorflow.keras.optimizers import Adam\n",
        "from tensorflow.keras.activations import softmax, sigmoid\n",
        "from tensorflow.python.keras.optimizers import SGD\n",
        "import tensorflow as tf"
      ],
      "execution_count": 0,
      "outputs": []
    },
    {
      "cell_type": "markdown",
      "metadata": {
        "id": "-g4KbNy4ZWTl",
        "colab_type": "text"
      },
      "source": [
        "**Rotating the images to increase the size of the dataset**"
      ]
    },
    {
      "cell_type": "code",
      "metadata": {
        "id": "bL4TkoFEYUKg",
        "colab_type": "code",
        "colab": {}
      },
      "source": [
        "# import PIL\n",
        "# from PIL import Image\n",
        "# import cv2\n",
        "# image_paths = [\"/content/drive/My Drive/data/with_mask\", \"/content/drive/My Drive/data/without_mask\"]\n",
        "# for path in image_paths:\n",
        "#   i = 0\n",
        "#   for image_path in os.listdir(path):\n",
        "#         input_path = os.path.join(path, image_path)\n",
        "#         image_to_rotate = Image.open(input_path)\n",
        "#         fullpath = os.path.join(path, 'rotated_'+ str(i) + '_' +image_path)\n",
        "#         rotated = image_to_rotate.rotate(90).save(fullpath)\n",
        "#         i = i + 1"
      ],
      "execution_count": 0,
      "outputs": []
    },
    {
      "cell_type": "markdown",
      "metadata": {
        "id": "BZFyTsI5Zd-X",
        "colab_type": "text"
      },
      "source": [
        "**Flipping the images to increase the size of the dataset**"
      ]
    },
    {
      "cell_type": "code",
      "metadata": {
        "id": "ZyYEQzuxZPW2",
        "colab_type": "code",
        "colab": {}
      },
      "source": [
        "# image_paths = [\"/content/drive/My Drive/data/with_mask\", \"/content/drive/My Drive/data/without_mask\"]\n",
        "# for path in image_paths:\n",
        "#   i = 0\n",
        "#   for image_path in os.listdir(path):\n",
        "#         input_path = os.path.join(path, image_path)\n",
        "#         image_to_flip = Image.open(input_path)\n",
        "#         fullpath = os.path.join(path, 'flipped_'+ str(i) + '_' +image_path)\n",
        "#         out = image_to_flip.transpose(PIL.Image.FLIP_LEFT_RIGHT).save(fullpath)\n",
        "#         i = i + 1"
      ],
      "execution_count": 0,
      "outputs": []
    },
    {
      "cell_type": "markdown",
      "metadata": {
        "id": "RqpovdfRZnXr",
        "colab_type": "text"
      },
      "source": [
        "**Making thee directory structure required by the image data generator keras**"
      ]
    },
    {
      "cell_type": "code",
      "metadata": {
        "id": "HMRoMKRjkaxS",
        "colab_type": "code",
        "colab": {}
      },
      "source": [
        "# subdirs = ['train/', 'test/']\n",
        "# for dir in subdirs:\n",
        "#     labeldirs = ['with_mask/', 'without_mask/']\n",
        "#     for labeldir in labeldirs:\n",
        "#         newdir = '/content/drive/My Drive/train_data/' + dir + labeldir\n",
        "#         os.makedirs(newdir, exist_ok=True)"
      ],
      "execution_count": 0,
      "outputs": []
    },
    {
      "cell_type": "markdown",
      "metadata": {
        "id": "Yy2fMGrKZw_n",
        "colab_type": "text"
      },
      "source": [
        "Splitting the data (80-20 split) and putting them in the required directories under their class labels "
      ]
    },
    {
      "cell_type": "code",
      "metadata": {
        "id": "-rUpNCdUqwxP",
        "colab_type": "code",
        "colab": {}
      },
      "source": [
        "# seed(1)\n",
        "# test_ratio = 0.20\n",
        "# def category_split():\n",
        "#   image_paths = [\"with_mask\", \"without_mask\"]\n",
        "#   for directory in image_paths:\n",
        "#     path_dir = '/content/drive/My Drive/data/' + directory\n",
        "#     for file in os.listdir(path_dir):\n",
        "#         type_dir = \"train/\"\n",
        "#         main_dir = ''\n",
        "#         if (random() < 0.20):\n",
        "#             type_dir = \"test/\"\n",
        "#         if (directory == \"with_mask\"):\n",
        "#             main_dir = '/content/drive/My Drive/train_data/' + type_dir + 'with_mask/'\n",
        "#         if (directory == \"without_mask\"):\n",
        "#             main_dir = '/content/drive/My Drive/train_data/' + type_dir + 'without_mask/'\n",
        "#         os.replace(path_dir + '/' + file, main_dir + file)\n",
        "\n",
        "# category_split()"
      ],
      "execution_count": 0,
      "outputs": []
    },
    {
      "cell_type": "markdown",
      "metadata": {
        "id": "50RP90upZwQF",
        "colab_type": "text"
      },
      "source": [
        "**Creating a simple convolutional network using 2 convolution layers with 3x3 filters**"
      ]
    },
    {
      "cell_type": "code",
      "metadata": {
        "id": "eiJCz2eVq274",
        "colab_type": "code",
        "colab": {}
      },
      "source": [
        "model = tf.keras.models.Sequential([\n",
        "    tf.keras.layers.Conv2D(64, (3,3), activation='relu', input_shape=(150, 150, 3)),\n",
        "    tf.keras.layers.MaxPooling2D(2,2),\n",
        "    \n",
        "    tf.keras.layers.Conv2D(128, (3,3), activation='relu'),\n",
        "    tf.keras.layers.MaxPooling2D(2,2),\n",
        "    \n",
        "    tf.keras.layers.Conv2D(256, (3,3), activation='relu'),\n",
        "    tf.keras.layers.MaxPooling2D(2,2),\n",
        "    \n",
        "    tf.keras.layers.Flatten(),\n",
        "    tf.keras.layers.Dropout(0.5),\n",
        "    tf.keras.layers.Dense(50, activation='relu'),\n",
        "    tf.keras.layers.Dense(2, activation='softmax')\n",
        "])\n",
        "model.compile(optimizer='adam', loss='binary_crossentropy', metrics=['acc'])"
      ],
      "execution_count": 0,
      "outputs": []
    },
    {
      "cell_type": "markdown",
      "metadata": {
        "id": "IJp2RNCvaUk_",
        "colab_type": "text"
      },
      "source": [
        "**Passing the data from the directory using the generator object to reduce RAM usage**"
      ]
    },
    {
      "cell_type": "code",
      "metadata": {
        "id": "siXT5p4_pHIg",
        "colab_type": "code",
        "outputId": "a947a0b1-4164-4e79-f221-293c1499c3d9",
        "colab": {
          "base_uri": "https://localhost:8080/",
          "height": 51
        }
      },
      "source": [
        "datagen = ImageDataGenerator(rescale=1.0/255.0)\n",
        "train_it = datagen.flow_from_directory('/content/drive/My Drive/train_data/train', target_size= (150, 150), batch_size = 64)\n",
        "test_it = datagen.flow_from_directory('/content/drive/My Drive/train_data/test', target_size = (150, 150), batch_size = 64)"
      ],
      "execution_count": 0,
      "outputs": [
        {
          "output_type": "stream",
          "text": [
            "Found 4408 images belonging to 2 classes.\n",
            "Found 1102 images belonging to 2 classes.\n"
          ],
          "name": "stdout"
        }
      ]
    },
    {
      "cell_type": "markdown",
      "metadata": {
        "id": "WCyArVWnactK",
        "colab_type": "text"
      },
      "source": [
        "**Fitting the model**"
      ]
    },
    {
      "cell_type": "code",
      "metadata": {
        "id": "L0ImFARcp1R9",
        "colab_type": "code",
        "outputId": "9a1f84c7-19b3-4f22-9088-b3e8f4a5a1f3",
        "colab": {
          "base_uri": "https://localhost:8080/"
        }
      },
      "source": [
        "# Fitting the model\n",
        "print(\"Fitting the model....\")\n",
        "history = model.fit_generator(train_it, steps_per_epoch = len(train_it), validation_data= test_it, validation_steps= len(test_it), epochs = 30, verbose = 2)"
      ],
      "execution_count": 0,
      "outputs": [
        {
          "output_type": "stream",
          "text": [
            "Fitting the model....\n",
            "Epoch 1/30\n"
          ],
          "name": "stdout"
        }
      ]
    },
    {
      "cell_type": "markdown",
      "metadata": {
        "id": "kz2QYKhSah6Y",
        "colab_type": "text"
      },
      "source": [
        "**Saving the weights**"
      ]
    },
    {
      "cell_type": "code",
      "metadata": {
        "id": "JqtIAVN0qFqp",
        "colab_type": "code",
        "colab": {}
      },
      "source": [
        "print(\"Saving the model\")\n",
        "model.save_weights('/content/drive/My Drive/saved_model/model_wieghts_latest.h5')\n",
        "model.save('/content/drive/My Drive/saved_model/model_keras_latest.h5')"
      ],
      "execution_count": 0,
      "outputs": []
    },
    {
      "cell_type": "markdown",
      "metadata": {
        "id": "OC1NeiE4amLP",
        "colab_type": "text"
      },
      "source": [
        "**TO load the local webcam in google colab**"
      ]
    },
    {
      "cell_type": "markdown",
      "metadata": {
        "id": "R7OFF_Y7atP7",
        "colab_type": "text"
      },
      "source": [
        "**Predicting the images in the test set using the openCV library**"
      ]
    },
    {
      "cell_type": "code",
      "metadata": {
        "id": "JKrOZeJv7VWl",
        "colab_type": "code",
        "colab": {}
      },
      "source": [
        "import cv2\n",
        "from google.colab.patches import cv2_imshow\n",
        "import numpy as np\n",
        "labels_dict={0:'without_mask',1:'with_mask'}\n",
        "color_dict={0:(0,0,255),1:(0,255,0)}\n",
        "predict_path = \"/content/drive/My Drive/prediction_images/all_classes/\"\n",
        "model = tf.keras.models.load_model(\"/content/drive/My Drive/saved_model/model_keras_150.h5\")\n",
        "size = 1\n",
        "classifier = cv2.CascadeClassifier('/content/drive/My Drive/haarcascade_frontalface_default.xml') \n",
        "\n",
        "for file in os.listdir(predict_path):\n",
        "    im = cv2.imread(predict_path + file)\n",
        "    gray = cv2.cvtColor(im, cv2.COLOR_BGR2GRAY)\n",
        "    faces = classifier.detectMultiScale(gray, 1.1, 1)\n",
        "\n",
        "    for (x, y, w, h) in faces:\n",
        "        face_img = im[y:y+h, x:x+w]\n",
        "        resized=cv2.resize(face_img,(150,150))\n",
        "        normalized=resized\n",
        "        reshaped=np.reshape(normalized,(1,150,150,3))\n",
        "        reshaped = np.vstack([reshaped])\n",
        "        result=model.predict(reshaped)\n",
        "        \n",
        "        label=np.argmax(result,axis=1)[0]\n",
        "      \n",
        "        cv2.rectangle(im,(x,y),(x+w,y+h),color_dict[label],2)\n",
        "        cv2.putText(im, labels_dict[label], (x, y-10),cv2.FONT_HERSHEY_SIMPLEX,0.8,(255,255,255),2)\n",
        "        \n",
        "    cv2_imshow(im)\n",
        "    cv2.imwrite(file, im)\n",
        "    key = cv2.waitKey(10)\n",
        "    if key == 27:\n",
        "        break\n",
        "\n",
        "cv2.destroyAllWindows()"
      ],
      "execution_count": 0,
      "outputs": []
    },
    {
      "cell_type": "code",
      "metadata": {
        "id": "Xdldz6IE_Z7a",
        "colab_type": "code",
        "colab": {}
      },
      "source": [
        ""
      ],
      "execution_count": 0,
      "outputs": []
    }
  ]
}